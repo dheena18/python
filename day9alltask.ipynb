{
 "cells": [
  {
   "cell_type": "code",
   "execution_count": 1,
   "metadata": {},
   "outputs": [
    {
     "name": "stdout",
     "output_type": "stream",
     "text": [
      "184\n"
     ]
    }
   ],
   "source": [
    "a=lambda x,y:x*y\n",
    "print(a(23,8))"
   ]
  },
  {
   "cell_type": "code",
   "execution_count": 4,
   "metadata": {},
   "outputs": [
    {
     "name": "stdout",
     "output_type": "stream",
     "text": [
      "[0, 1, 1, 2, 3, 5, 8, 13]\n"
     ]
    }
   ],
   "source": [
    "from functools import reduce\n",
    "fib=lambda num: reduce(lambda x,_:x+[x[-1]+x[-2]],range (num-2),[0,1])\n",
    "print(fib(8))"
   ]
  },
  {
   "cell_type": "code",
   "execution_count": 11,
   "metadata": {},
   "outputs": [
    {
     "name": "stdout",
     "output_type": "stream",
     "text": [
      "given number in the list [3, 12, 6, 14, 11]\n",
      "multiplier: 4\n",
      "the multiplied numbers are:\n",
      "\n",
      "1248245644\n",
      "\n"
     ]
    }
   ],
   "source": [
    "list_num=[ 3, 12, 6, 14, 11]\n",
    "multiplier= 4\n",
    "print(\"given number in the list\",list_num)\n",
    "print(\"multiplier:\",multiplier)\n",
    "multiplied_numbers=list(map(lambda number:number*multiplier,list_num))\n",
    "print(\"the multiplied numbers are:\")\n",
    "print(''.join(map(str,multiplied_numbers)))"
   ]
  },
  {
   "cell_type": "code",
   "execution_count": 12,
   "metadata": {},
   "outputs": [
    {
     "name": "stdout",
     "output_type": "stream",
     "text": [
      "the number in the list:\n",
      "[18, 28, 54, 39, 125, 72, 191, 81, 90, 190]\n",
      "\n",
      " the number divisible by 9 are\n",
      "[18, 54, 72, 81, 90]\n"
     ]
    }
   ],
   "source": [
    "list_num=[18,28,54,39,125,72,191,81,90,190]\n",
    "print(\"the number in the list:\")\n",
    "print(list_num)\n",
    "result=list(filter(lambda x:(x%9==0),list_num))\n",
    "print(\"\\n the number divisible by 9 are\")\n",
    "print(result)"
   ]
  },
  {
   "cell_type": "code",
   "execution_count": 13,
   "metadata": {},
   "outputs": [
    {
     "name": "stdout",
     "output_type": "stream",
     "text": [
      "the list of numbers are:\n",
      "[0, 8, 5, 3, 14, 26, 11, 110]\n",
      "\n",
      " the number of even number in the list are: 5\n"
     ]
    }
   ],
   "source": [
    "list_num=[0,8,5,3,14,26,11,110]\n",
    "print(\"the list of numbers are:\")\n",
    "print(list_num)\n",
    "even_num=len(list(filter(lambda x:(x%2==0),list_num)))\n",
    "print(\"\\n the number of even number in the list are:\",even_num)"
   ]
  },
  {
   "cell_type": "code",
   "execution_count": null,
   "metadata": {},
   "outputs": [],
   "source": []
  }
 ],
 "metadata": {
  "kernelspec": {
   "display_name": "Python 3",
   "language": "python",
   "name": "python3"
  },
  "language_info": {
   "codemirror_mode": {
    "name": "ipython",
    "version": 3
   },
   "file_extension": ".py",
   "mimetype": "text/x-python",
   "name": "python",
   "nbconvert_exporter": "python",
   "pygments_lexer": "ipython3",
   "version": "3.8.3"
  }
 },
 "nbformat": 4,
 "nbformat_minor": 4
}
