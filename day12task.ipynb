{
 "cells": [
  {
   "cell_type": "code",
   "execution_count": 8,
   "metadata": {},
   "outputs": [],
   "source": [
    "import json\n",
    "data=[{\"name\":\"Dheenadayalan\",\"Age\":\"19\",\"Place\":\"Madurai\",\"Gender\":\"Male\"},\n",
    "      {\"name\":\"Danajayan\",\"Age\":\"21\",\"Place\":\"Theni\",\"Gender\":\"Male\"},\n",
    "      {\"name\":\"Badhri\",\"Age\":\"22\",\"Place\":\"Usilampatti\",\"Gender\":\"Male\"},\n",
    "      {\"name\":\"Rawnakiraks\",\"Age\":\"20\",\"Place\":\"Thirumangalam\",\"Gender\":\"Male\"}]\n",
    "with open(\"test.json\",'w')as json_file:\n",
    "    json.dump(data,json_file)"
   ]
  },
  {
   "cell_type": "code",
   "execution_count": 2,
   "metadata": {},
   "outputs": [
    {
     "name": "stdout",
     "output_type": "stream",
     "text": [
      "Requirement already satisfied: pymysql in c:\\users\\dheen\\anaconda3\\lib\\site-packages (0.10.1)\n",
      "Note: you may need to restart the kernel to use updated packages.\n"
     ]
    }
   ],
   "source": [
    "pip install pymysql"
   ]
  },
  {
   "cell_type": "code",
   "execution_count": 7,
   "metadata": {},
   "outputs": [],
   "source": [
    "import pandas as pd\n",
    "from sqlalchemy import create_engine\n",
    "engine=create_engine('mysql+pymysql://root:@localhost/testintern')\n",
    "df=pd.read_json(\"test.json\")\n",
    "df.to_sql(\"json_file\",con=engine,if_exists='replace')"
   ]
  },
  {
   "cell_type": "code",
   "execution_count": null,
   "metadata": {},
   "outputs": [],
   "source": []
  }
 ],
 "metadata": {
  "kernelspec": {
   "display_name": "Python 3",
   "language": "python",
   "name": "python3"
  },
  "language_info": {
   "codemirror_mode": {
    "name": "ipython",
    "version": 3
   },
   "file_extension": ".py",
   "mimetype": "text/x-python",
   "name": "python",
   "nbconvert_exporter": "python",
   "pygments_lexer": "ipython3",
   "version": "3.8.3"
  }
 },
 "nbformat": 4,
 "nbformat_minor": 4
}
