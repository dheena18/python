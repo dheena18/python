{
 "cells": [
  {
   "cell_type": "code",
   "execution_count": 5,
   "metadata": {},
   "outputs": [
    {
     "name": "stdout",
     "output_type": "stream",
     "text": [
      "Enter the text: who am I?\n",
      "No it contains other than alphabets and numbers\n"
     ]
    }
   ],
   "source": [
    "#1Write a Python program for all the cases which can check a string contains only a certain set of characters (in this case a-z, A-Z and 0-9).\n",
    "import re\n",
    "text= input(\"Enter the text: \")\n",
    "result=re.sub(\"[A-Za-z0-9]\",'', text)\n",
    "if len(result) == 0:\n",
    "    print(\"Yes It contains only alphabets and numbers\")\n",
    "else:\n",
    "    print(\"No it contains other than alphabets and numbers\")"
   ]
  },
  {
   "cell_type": "code",
   "execution_count": 6,
   "metadata": {},
   "outputs": [
    {
     "name": "stdout",
     "output_type": "stream",
     "text": [
      "Yes!! a and b are found in the text\n",
      "No!! a and b are not found in the text\n"
     ]
    }
   ],
   "source": [
    "#2Write a Python program that matches a word containing 'ab'.\n",
    "\n",
    "import re\n",
    "def check(text):\n",
    "        patterns = '\\a*b.\\a*'\n",
    "        if re.search(patterns,  text):\n",
    "                return 'Yes!! a and b are found in the text'\n",
    "        else:\n",
    "                return('No!! a and b are not found in the text')\n",
    "\n",
    "print(check(\"A boy is playing with a ball\"))\n",
    "print(check(\"Python10 Exercises.\"))"
   ]
  },
  {
   "cell_type": "code",
   "execution_count": 7,
   "metadata": {},
   "outputs": [
    {
     "name": "stdout",
     "output_type": "stream",
     "text": [
      "Yes!Number is present at the end of string\n",
      "No!Number is not present at the end of string\n"
     ]
    }
   ],
   "source": [
    "#3Write a Python program to check for a number at the end of a word/sentence.\n",
    "import re\n",
    "def end_num(string):\n",
    "    text = re.compile(r\".*[0-9]$\")\n",
    "    if text.match(string):\n",
    "        return 'Yes!Number is present at the end of string'\n",
    "    else:\n",
    "        return 'No!Number is not present at the end of string'\n",
    "\n",
    "print(end_num('dheena2001'))\n",
    "print(end_num('dayalan'))"
   ]
  },
  {
   "cell_type": "code",
   "execution_count": 8,
   "metadata": {},
   "outputs": [
    {
     "name": "stdout",
     "output_type": "stream",
     "text": [
      "The Numbers of length 1 to 3 are\n",
      "1\n",
      "12\n",
      "13\n",
      "12\n",
      "13\n",
      "345\n"
     ]
    }
   ],
   "source": [
    "#4Write a Python program to search the numbers (0-9) of length between 1 to 3 in a given string\n",
    "\n",
    "import re\n",
    "list= re.finditer(r\"([0-9]{1,3})\", \"These are the numberss 1, 12, 13,12,13 and 345\")\n",
    "print(\"The Numbers of length 1 to 3 are\")\n",
    "for n in list:\n",
    "     print(n.group(1))"
   ]
  },
  {
   "cell_type": "code",
   "execution_count": 11,
   "metadata": {},
   "outputs": [
    {
     "name": "stdout",
     "output_type": "stream",
     "text": [
      "Yes! it contains only upper case\n",
      "No! It does not not contain upper case only\n",
      "No! It does not not contain upper case only\n"
     ]
    }
   ],
   "source": [
    "#5 Write a Python program to match a string that contains only uppercase letters\n",
    "\n",
    "import re \n",
    "\n",
    "\n",
    "def match(text): \n",
    "    pattern = '[A-Z]+$'\n",
    "    if re.search(pattern, text): \n",
    "        return('Yes! it contains only upper case') \n",
    "    else: \n",
    "        return('No! It does not not contain upper case only') \n",
    "print(match(\"DHEENA\"))\n",
    "print(match(\"dheenadayalan\")) \n",
    "print(match(\"dheena\"))"
   ]
  },
  {
   "cell_type": "code",
   "execution_count": null,
   "metadata": {},
   "outputs": [],
   "source": []
  }
 ],
 "metadata": {
  "kernelspec": {
   "display_name": "Python 3",
   "language": "python",
   "name": "python3"
  },
  "language_info": {
   "codemirror_mode": {
    "name": "ipython",
    "version": 3
   },
   "file_extension": ".py",
   "mimetype": "text/x-python",
   "name": "python",
   "nbconvert_exporter": "python",
   "pygments_lexer": "ipython3",
   "version": "3.8.3"
  }
 },
 "nbformat": 4,
 "nbformat_minor": 4
}
